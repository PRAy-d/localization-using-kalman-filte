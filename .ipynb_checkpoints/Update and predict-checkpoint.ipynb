{
 "cells": [
  {
   "cell_type": "code",
   "execution_count": 1,
   "metadata": {},
   "outputs": [],
   "source": [
    "#update\n",
    "###defining a function update, that updates the value of mesurements with \n",
    "###the covariance and mean of previous measuremennts\n",
    "\n",
    "##variables\n",
    "###  u1: mean of original measurememnt\n",
    "###  var1: variance of original measurement\n",
    "###  u1: mean of new measurements\n",
    "###  var2: variance of new measurements\n",
    "###  new_mean: updated mean of measurements\n",
    "###  new_var: updated variance of measurements\n",
    "\n",
    "#ouput of function\n",
    "#  updated values of mean and variance of measurements\n",
    "def update(u1,var1,u2,var2):\n",
    "    new_mean=(var2*u1+var1*u2)/(var1+var2)\n",
    "    new_var=1/(1/var1+1/var2)\n",
    "    return[new_mean,new_var]\n"
   ]
  },
  {
   "cell_type": "code",
   "execution_count": 2,
   "metadata": {},
   "outputs": [],
   "source": [
    "#defining a function predict, that predicts the value of the motion with \n",
    "#the covariance and mean values of previous motion\n",
    "\n",
    "#variables\n",
    "#  u1: mean of original measurememnt\n",
    "#  var1: variance of original measurement\n",
    "#  u1: mean of new measurements\n",
    "#  var2: variance of new measurements\n",
    "#  new_mean: updated mean of measurements\n",
    "#  new_var: updated variance of measurements\n",
    "\n",
    "#ouput of function\n",
    "#  updated values of mean and variance of measurements\n",
    "\n",
    "def predict(u1,var1,u2,var2):\n",
    "    new_mean=u1+u2\n",
    "    new_var=var1+var2\n",
    "    return [new_mean,new_var]\n"
   ]
  }
 ],
 "metadata": {
  "celltoolbar": "Raw Cell Format",
  "kernelspec": {
   "display_name": "Python 3",
   "language": "python",
   "name": "python3"
  },
  "language_info": {
   "codemirror_mode": {
    "name": "ipython",
    "version": 3
   },
   "file_extension": ".py",
   "mimetype": "text/x-python",
   "name": "python",
   "nbconvert_exporter": "python",
   "pygments_lexer": "ipython3",
   "version": "3.7.6"
  }
 },
 "nbformat": 4,
 "nbformat_minor": 4
}
